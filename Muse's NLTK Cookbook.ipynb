{
 "cells": [
  {
   "cell_type": "markdown",
   "metadata": {},
   "source": [
    "# Muse's NLTK Cookbook"
   ]
  },
  {
   "cell_type": "markdown",
   "metadata": {},
   "source": [
    "[NLTK](http://www.nltk.org) is a powreful tool for natural language processing in Python. There are a lot of really great resources on the internet discussing the features of NLTK at length. This will not be one of those. Instead, this cookbook aims to share some common algorithms that you can get started playing with right away. By using the Jupyter/iPython notebook format, you can read each step and execute code as you go, getting immediate feedback. \n",
    "\n",
    "Please share any questions/additions on [the github repo](http://github.com/nelsonam) or reach out to me on Twitter [@musegarden](http://twitter.com/musegarden)."
   ]
  },
  {
   "cell_type": "markdown",
   "metadata": {},
   "source": [
    "The first thing you'll want to do is make sure you have NLTK installed. Official instructions for installation can be found on the [NLTK website](http://nltk.org/install.html) but if you want a quick setup on OSX/Linux just type `pip install nltk`. Then you should be able to follow along here."
   ]
  },
  {
   "cell_type": "markdown",
   "metadata": {},
   "source": [
    "First, import the nltk library:"
   ]
  },
  {
   "cell_type": "code",
   "execution_count": 10,
   "metadata": {
    "collapsed": false
   },
   "outputs": [],
   "source": [
    "import nltk"
   ]
  },
  {
   "cell_type": "markdown",
   "metadata": {},
   "source": [
    "## Obtaining Corpora"
   ]
  },
  {
   "cell_type": "markdown",
   "metadata": {},
   "source": [
    "### NLTK Corpora"
   ]
  },
  {
   "cell_type": "markdown",
   "metadata": {
    "collapsed": false
   },
   "source": [
    "NLTK includes a wide array of corpora, so you can download the included datasets or use your own. I recommend downloading the \"book\" collection; it contains a variety of corpora that you can use to follow along with the official NLTK book."
   ]
  },
  {
   "cell_type": "code",
   "execution_count": 12,
   "metadata": {
    "collapsed": false
   },
   "outputs": [
    {
     "name": "stdout",
     "output_type": "stream",
     "text": [
      "NLTK Downloader\n",
      "---------------------------------------------------------------------------\n",
      "    d) Download   l) List    u) Update   c) Config   h) Help   q) Quit\n",
      "---------------------------------------------------------------------------\n",
      "Downloader> d\n",
      "\n",
      "Download which package (l=list; x=cancel)?\n",
      "  Identifier> l\n",
      "Packages:\n",
      "  [ ] abc................. Australian Broadcasting Commission 2006\n",
      "  [ ] alpino.............. Alpino Dutch Treebank\n",
      "  [ ] basque_grammars..... Grammars for Basque\n",
      "  [ ] biocreative_ppi..... BioCreAtIvE (Critical Assessment of Information\n",
      "                           Extraction Systems in Biology)\n",
      "  [ ] bllip_wsj_no_aux.... BLLIP Parser: WSJ Model\n",
      "  [ ] book_grammars....... Grammars from NLTK Book\n",
      "  [ ] brown............... Brown Corpus\n",
      "  [ ] brown_tei........... Brown Corpus (TEI XML Version)\n",
      "  [ ] cess_cat............ CESS-CAT Treebank\n",
      "  [ ] cess_esp............ CESS-ESP Treebank\n",
      "  [ ] chat80.............. Chat-80 Data Files\n",
      "  [ ] city_database....... City Database\n",
      "  [ ] cmudict............. The Carnegie Mellon Pronouncing Dictionary (0.6)\n",
      "  [ ] comtrans............ ComTrans Corpus Sample\n",
      "  [ ] conll2000........... CONLL 2000 Chunking Corpus\n",
      "  [ ] conll2002........... CONLL 2002 Named Entity Recognition Corpus\n",
      "  [ ] conll2007........... Dependency Treebanks from CoNLL 2007 (Catalan\n",
      "                           and Basque Subset)\n",
      "  [ ] crubadan............ Crubadan Corpus\n",
      "Hit Enter to continue: \n",
      "  [ ] dependency_treebank. Dependency Parsed Treebank\n",
      "  [ ] europarl_raw........ Sample European Parliament Proceedings Parallel\n",
      "                           Corpus\n",
      "  [ ] floresta............ Portuguese Treebank\n",
      "  [ ] framenet_v15........ FrameNet 1.5\n",
      "  [ ] gazetteers.......... Gazeteer Lists\n",
      "  [ ] genesis............. Genesis Corpus\n",
      "  [ ] gutenberg........... Project Gutenberg Selections\n",
      "  [ ] hmm_treebank_pos_tagger Treebank Part of Speech Tagger (HMM)\n",
      "  [ ] ieer................ NIST IE-ER DATA SAMPLE\n",
      "  [ ] inaugural........... C-Span Inaugural Address Corpus\n",
      "  [ ] indian.............. Indian Language POS-Tagged Corpus\n",
      "  [ ] jeita............... JEITA Public Morphologically Tagged Corpus (in\n",
      "                           ChaSen format)\n",
      "  [ ] kimmo............... PC-KIMMO Data Files\n",
      "  [ ] knbc................ KNB Corpus (Annotated blog corpus)\n",
      "  [ ] large_grammars...... Large context-free and feature-based grammars\n",
      "                           for parser comparison\n",
      "  [ ] lin_thesaurus....... Lin's Dependency Thesaurus\n",
      "  [ ] mac_morpho.......... MAC-MORPHO: Brazilian Portuguese news text with\n",
      "                           part-of-speech tags\n",
      "Hit Enter to continue: \n",
      "  [ ] machado............. Machado de Assis -- Obra Completa\n",
      "  [ ] masc_tagged......... MASC Tagged Corpus\n",
      "  [ ] maxent_ne_chunker... ACE Named Entity Chunker (Maximum entropy)\n",
      "  [ ] maxent_treebank_pos_tagger Treebank Part of Speech Tagger (Maximum entropy)\n",
      "  [ ] moses_sample........ Moses Sample Models\n",
      "  [ ] movie_reviews....... Sentiment Polarity Dataset Version 2.0\n",
      "  [ ] names............... Names Corpus, Version 1.3 (1994-03-29)\n",
      "  [ ] nombank.1.0......... NomBank Corpus 1.0\n",
      "  [ ] nps_chat............ NPS Chat\n",
      "  [ ] oanc_masc........... Open American National Corpus: Manually\n",
      "                           Annotated Sub-Corpus\n",
      "  [ ] omw................. Open Multilingual Wordnet\n",
      "  [ ] panlex_swadesh...... PanLex Swadesh Corpora\n",
      "  [ ] paradigms........... Paradigm Corpus\n",
      "  [ ] pe08................ Cross-Framework and Cross-Domain Parser\n",
      "                           Evaluation Shared Task\n",
      "  [ ] pil................. The Patient Information Leaflet (PIL) Corpus\n",
      "  [ ] pl196x.............. Polish language of the XX century sixties\n",
      "  [ ] ppattach............ Prepositional Phrase Attachment Corpus\n",
      "  [ ] problem_reports..... Problem Report Corpus\n",
      "  [ ] propbank............ Proposition Bank Corpus 1.0\n",
      "Hit Enter to continue: \n",
      "  [ ] ptb................. Penn Treebank\n",
      "  [ ] punkt............... Punkt Tokenizer Models\n",
      "  [ ] qc.................. Experimental Data for Question Classification\n",
      "  [ ] reuters............. The Reuters-21578 benchmark corpus, ApteMod\n",
      "                           version\n",
      "  [ ] rslp................ RSLP Stemmer (Removedor de Sufixos da Lingua\n",
      "                           Portuguesa)\n",
      "  [ ] rte................. PASCAL RTE Challenges 1, 2, and 3\n",
      "  [ ] sample_grammars..... Sample Grammars\n",
      "  [ ] semcor.............. SemCor 3.0\n",
      "  [ ] senseval............ SENSEVAL 2 Corpus: Sense Tagged Text\n",
      "  [ ] sentiwordnet........ SentiWordNet\n",
      "  [ ] shakespeare......... Shakespeare XML Corpus Sample\n",
      "  [ ] sinica_treebank..... Sinica Treebank Corpus Sample\n",
      "  [ ] smultron............ SMULTRON Corpus Sample\n",
      "  [ ] snowball_data....... Snowball Data\n",
      "  [ ] spanish_grammars.... Grammars for Spanish\n",
      "  [ ] state_union......... C-Span State of the Union Address Corpus\n",
      "  [ ] stopwords........... Stopwords Corpus\n",
      "  [ ] swadesh............. Swadesh Wordlists\n",
      "  [ ] switchboard......... Switchboard Corpus Sample\n",
      "Hit Enter to continue: \n",
      "  [ ] tagsets............. Help on Tagsets\n",
      "  [ ] timit............... TIMIT Corpus Sample\n",
      "  [ ] toolbox............. Toolbox Sample Files\n",
      "  [ ] treebank............ Penn Treebank Sample\n",
      "  [ ] twitter_samples..... Twitter Samples\n",
      "  [ ] udhr2............... Universal Declaration of Human Rights Corpus\n",
      "                           (Unicode Version)\n",
      "  [ ] udhr................ Universal Declaration of Human Rights Corpus\n",
      "  [ ] unicode_samples..... Unicode Samples\n",
      "  [ ] universal_tagset.... Mappings to the Universal Part-of-Speech Tagset\n",
      "  [ ] universal_treebanks_v20 Universal Treebanks Version 2.0\n",
      "  [ ] verbnet............. VerbNet Lexicon, Version 2.1\n",
      "  [ ] webtext............. Web Text Corpus\n",
      "  [ ] word2vec_sample..... Word2Vec Sample\n",
      "  [ ] wordnet............. WordNet\n",
      "  [ ] wordnet_ic.......... WordNet-InfoContent\n",
      "  [ ] words............... Word Lists\n",
      "  [ ] ycoe................ York-Toronto-Helsinki Parsed Corpus of Old\n",
      "                           English Prose\n",
      "\n",
      "Collections:\n",
      "  [ ] all-corpora......... All the corpora\n",
      "Hit Enter to continue: \n",
      "  [ ] all................. All packages\n",
      "  [ ] book................ Everything used in the NLTK Book\n",
      "\n",
      "([*] marks installed packages)\n",
      "\n",
      "Download which package (l=list; x=cancel)?\n",
      "  Identifier> book\n",
      "    Downloading collection u'book'\n",
      "       | \n",
      "       | Downloading package abc to /home/vagrant/nltk_data...\n",
      "       |   Unzipping corpora/abc.zip.\n",
      "       | Downloading package brown to /home/vagrant/nltk_data...\n",
      "       |   Unzipping corpora/brown.zip.\n",
      "       | Downloading package chat80 to /home/vagrant/nltk_data...\n",
      "       |   Unzipping corpora/chat80.zip.\n",
      "       | Downloading package cmudict to /home/vagrant/nltk_data...\n",
      "       |   Unzipping corpora/cmudict.zip.\n",
      "       | Downloading package conll2000 to /home/vagrant/nltk_data...\n",
      "       |   Unzipping corpora/conll2000.zip.\n",
      "       | Downloading package conll2002 to /home/vagrant/nltk_data...\n",
      "       |   Unzipping corpora/conll2002.zip.\n",
      "       | Downloading package dependency_treebank to\n",
      "       |     /home/vagrant/nltk_data...\n",
      "       |   Unzipping corpora/dependency_treebank.zip.\n",
      "       | Downloading package genesis to /home/vagrant/nltk_data...\n",
      "       |   Unzipping corpora/genesis.zip.\n",
      "       | Downloading package gutenberg to /home/vagrant/nltk_data...\n",
      "       |   Unzipping corpora/gutenberg.zip.\n",
      "       | Downloading package ieer to /home/vagrant/nltk_data...\n",
      "       |   Unzipping corpora/ieer.zip.\n",
      "       | Downloading package inaugural to /home/vagrant/nltk_data...\n",
      "       |   Unzipping corpora/inaugural.zip.\n",
      "       | Downloading package movie_reviews to\n",
      "       |     /home/vagrant/nltk_data...\n",
      "       |   Unzipping corpora/movie_reviews.zip.\n",
      "       | Downloading package nps_chat to /home/vagrant/nltk_data...\n",
      "       |   Unzipping corpora/nps_chat.zip.\n",
      "       | Downloading package names to /home/vagrant/nltk_data...\n",
      "       |   Unzipping corpora/names.zip.\n",
      "       | Downloading package ppattach to /home/vagrant/nltk_data...\n",
      "       |   Unzipping corpora/ppattach.zip.\n",
      "       | Downloading package reuters to /home/vagrant/nltk_data...\n",
      "       | Downloading package senseval to /home/vagrant/nltk_data...\n",
      "       |   Unzipping corpora/senseval.zip.\n",
      "       | Downloading package state_union to /home/vagrant/nltk_data...\n",
      "       |   Unzipping corpora/state_union.zip.\n",
      "       | Downloading package stopwords to /home/vagrant/nltk_data...\n",
      "       |   Unzipping corpora/stopwords.zip.\n",
      "       | Downloading package swadesh to /home/vagrant/nltk_data...\n",
      "       |   Unzipping corpora/swadesh.zip.\n",
      "       | Downloading package timit to /home/vagrant/nltk_data...\n",
      "       |   Unzipping corpora/timit.zip.\n",
      "       | Downloading package treebank to /home/vagrant/nltk_data...\n",
      "       |   Unzipping corpora/treebank.zip.\n",
      "       | Downloading package toolbox to /home/vagrant/nltk_data...\n",
      "       |   Unzipping corpora/toolbox.zip.\n",
      "       | Downloading package udhr to /home/vagrant/nltk_data...\n",
      "       |   Unzipping corpora/udhr.zip.\n",
      "       | Downloading package udhr2 to /home/vagrant/nltk_data...\n",
      "       |   Unzipping corpora/udhr2.zip.\n",
      "       | Downloading package unicode_samples to\n",
      "       |     /home/vagrant/nltk_data...\n",
      "       |   Unzipping corpora/unicode_samples.zip.\n",
      "       | Downloading package webtext to /home/vagrant/nltk_data...\n",
      "       |   Unzipping corpora/webtext.zip.\n",
      "       | Downloading package wordnet to /home/vagrant/nltk_data...\n",
      "       |   Unzipping corpora/wordnet.zip.\n",
      "       | Downloading package wordnet_ic to /home/vagrant/nltk_data...\n",
      "       |   Unzipping corpora/wordnet_ic.zip.\n",
      "       | Downloading package words to /home/vagrant/nltk_data...\n",
      "       |   Unzipping corpora/words.zip.\n",
      "       | Downloading package maxent_treebank_pos_tagger to\n",
      "       |     /home/vagrant/nltk_data...\n",
      "       |   Unzipping taggers/maxent_treebank_pos_tagger.zip.\n",
      "       | Downloading package maxent_ne_chunker to\n",
      "       |     /home/vagrant/nltk_data...\n",
      "       |   Unzipping chunkers/maxent_ne_chunker.zip.\n",
      "       | Downloading package universal_tagset to\n",
      "       |     /home/vagrant/nltk_data...\n",
      "       |   Unzipping taggers/universal_tagset.zip.\n",
      "       | Downloading package punkt to /home/vagrant/nltk_data...\n",
      "       |   Unzipping tokenizers/punkt.zip.\n",
      "       | Downloading package book_grammars to\n",
      "       |     /home/vagrant/nltk_data...\n",
      "       |   Unzipping grammars/book_grammars.zip.\n",
      "       | Downloading package city_database to\n",
      "       |     /home/vagrant/nltk_data...\n",
      "       |   Unzipping corpora/city_database.zip.\n",
      "       | Downloading package tagsets to /home/vagrant/nltk_data...\n",
      "       |   Unzipping help/tagsets.zip.\n",
      "       | Downloading package panlex_swadesh to\n",
      "       |     /home/vagrant/nltk_data...\n",
      "       | \n",
      "     Done downloading collection book\n",
      "\n",
      "---------------------------------------------------------------------------\n",
      "    d) Download   l) List    u) Update   c) Config   h) Help   q) Quit\n",
      "---------------------------------------------------------------------------\n",
      "Downloader> q\n"
     ]
    },
    {
     "data": {
      "text/plain": [
       "True"
      ]
     },
     "execution_count": 12,
     "metadata": {},
     "output_type": "execute_result"
    }
   ],
   "source": [
    "nltk.download()"
   ]
  },
  {
   "cell_type": "code",
   "execution_count": 20,
   "metadata": {
    "collapsed": false
   },
   "outputs": [],
   "source": [
    "# if you didn't download the \"book\" collection above, do so now\n",
    "from nltk.book import *"
   ]
  },
  {
   "cell_type": "markdown",
   "metadata": {},
   "source": [
    "### Your Own Corpora"
   ]
  },
  {
   "cell_type": "markdown",
   "metadata": {},
   "source": [
    "You're just as welcome to load in data from your own sources."
   ]
  },
  {
   "cell_type": "code",
   "execution_count": 21,
   "metadata": {
    "collapsed": true
   },
   "outputs": [],
   "source": [
    "# this helps us deal with unicode gracefully\n",
    "import codecs\n",
    "\n",
    "def readInput(filename):\n",
    "    book = codecs.open(filename, 'r', 'utf-8')\n",
    "    raw = book.read()\n",
    "    tokens = word_tokenize(raw) # breaks up the text into a bag of words\n",
    "    text = nltk.Text(tokens) # the standard NLTK Text object"
   ]
  },
  {
   "cell_type": "markdown",
   "metadata": {},
   "source": [
    "## Personals Corpus"
   ]
  },
  {
   "cell_type": "markdown",
   "metadata": {},
   "source": [
    "Let's have a look at what people want in the personals corpus. If you downloaded the NLTK book corpus above, you should be good to go.\n",
    "\n",
    "The first thing we'll look at is \"concordance\". It shows the _context_ of a given string within the corpus. For instance, we can see what people are \"seeking\"."
   ]
  },
  {
   "cell_type": "markdown",
   "metadata": {},
   "source": [
    "### Concordance"
   ]
  },
  {
   "cell_type": "code",
   "execution_count": 24,
   "metadata": {
    "collapsed": false
   },
   "outputs": [
    {
     "name": "stdout",
     "output_type": "stream",
     "text": [
      "Displaying 25 of 72 matches:\n",
      "                                     seeks attrac older single lady , for discr\n",
      "yo SINGLE DAD , sincere friendly DTE seeks r / ship with fem age open S / E 44y\n",
      "ip with fem age open S / E 44yo tall seeks working single mum or lady below 45 \n",
      " Nat Open 6 . 2 35 yr old OUTGOING M seeks fem 28 - 35 for o / door sports - w \n",
      "earing from you all . ABLE young man seeks , sexy older women . Phone for fun r\n",
      "sports , music , cafes , beach & c . Seeks an honest , attractive lady with a E\n",
      ", financially secure , no children , seeks attractive lady up to 40 y . o . wit\n",
      " , cafes , movies , dinner parties . Seeks out there female for friendship and \n",
      "th 11 y . o . son , living with me . Seeks nice , caring lady who likes childre\n",
      "dining etc . OUTGOING GUY Late 30s , seeks lady , 25 - 50 , size unimportant fo\n",
      "ch , country drives , quiet nights , seeks employed 28 - 40 year old lady for r\n",
      "nderstanding , with varied interests seeks genuine female for friendship , rela\n",
      "never married , financially secure . Seeks Australian lady for genuine relation\n",
      " , young for age , looks and outlook seeks short or long term relationship with\n",
      "ge up to 60 years . 31 YO GUY Slim , Seeks 25 - 35 yo female for friendship / r\n",
      " y . o . self emp . tradesman , NS , seeks Indian / Sri Lankan lady , NS , Oliv\n",
      "rs . ROMANTIC Sexy country guy 58 NS seeks similar NS lady for fun and friendsh\n",
      " walks and quiet time . DtoE , SOH , seeks same 38 - 50 , children ok . Fship ,\n",
      " Clean cut , intelligent , natur ist seeks petite open minded red hd or brunett\n",
      "ship ATHLETIC tall slim gen prof 40s seeks friendly lady age open Morn Pen Are \n",
      " fair . BUSINESSMAN 60 + n / s s / d seeks lady age open for f / ship r / ship \n",
      "ive prof male 48 fit / healthy n / s seeks lady same f / r / ship CARING LOVING\n",
      " r / ship CARING LOVING & generous , seeks petite Female up to 38 . CARING well\n",
      " 38 . CARING well dressed rom gent , seeks classy lady 35 + of elegance for r /\n",
      "on East Suburbs . EUROPEAN Male 45 , seeks married European lady for R / ship .\n"
     ]
    }
   ],
   "source": [
    "personals = text8 # text8 from the nltk.book collection\n",
    "personals.concordance(\"seeks\")"
   ]
  },
  {
   "cell_type": "markdown",
   "metadata": {},
   "source": [
    "### POS Tagging and Frequency Analysis"
   ]
  },
  {
   "cell_type": "markdown",
   "metadata": {},
   "source": [
    "What words do people use most often in their personals ads? Let's find out."
   ]
  },
  {
   "cell_type": "code",
   "execution_count": 34,
   "metadata": {
    "collapsed": false
   },
   "outputs": [
    {
     "data": {
      "text/plain": [
       "[(u',', 539),\n",
       " (u'.', 353),\n",
       " (u'/', 110),\n",
       " (u'for', 99),\n",
       " (u'to', 74),\n",
       " (u'and', 74),\n",
       " (u'lady', 68),\n",
       " (u'-', 66),\n",
       " (u'seeks', 60),\n",
       " (u'a', 52),\n",
       " (u'with', 44),\n",
       " (u'S', 36),\n",
       " (u'ship', 33),\n",
       " (u'&', 30),\n",
       " (u'relationship', 29),\n",
       " (u'fun', 28),\n",
       " (u'slim', 27),\n",
       " (u'build', 27),\n",
       " (u'in', 27),\n",
       " (u'o', 26),\n",
       " (u's', 24),\n",
       " (u'smoker', 23),\n",
       " (u'y', 23),\n",
       " (u'50', 23),\n",
       " (u'movies', 22),\n",
       " (u'non', 22),\n",
       " (u'I', 22),\n",
       " (u'good', 21),\n",
       " (u'honest', 20),\n",
       " (u'out', 19),\n",
       " (u'dining', 19),\n",
       " (u'looking', 18),\n",
       " (u'rship', 18),\n",
       " (u'like', 18),\n",
       " (u'friendship', 17),\n",
       " (u'who', 17),\n",
       " (u'attractive', 17),\n",
       " (u'age', 17),\n",
       " (u'35', 16),\n",
       " (u'Looking', 16),\n",
       " (u'45', 16),\n",
       " (u'40', 16),\n",
       " (u'5', 16),\n",
       " (u'meet', 15),\n",
       " (u'male', 15),\n",
       " (u'times', 15),\n",
       " (u'MALE', 15),\n",
       " (u'life', 15),\n",
       " (u'enjoy', 14),\n",
       " (u'fit', 14)]"
      ]
     },
     "execution_count": 34,
     "metadata": {},
     "output_type": "execute_result"
    }
   ],
   "source": [
    "fdist1 = FreqDist(personals)\n",
    "fdist1.most_common(50)"
   ]
  },
  {
   "cell_type": "markdown",
   "metadata": {},
   "source": [
    "If you look at the results above, you'll see that several words like \"male\" and \"MALE\" are in more than one place. How can we combine these?"
   ]
  },
  {
   "cell_type": "code",
   "execution_count": 35,
   "metadata": {
    "collapsed": false
   },
   "outputs": [],
   "source": [
    "personals = nltk.Text([t.lower() for t in personals.tokens])"
   ]
  },
  {
   "cell_type": "markdown",
   "metadata": {},
   "source": [
    "Let's try that again."
   ]
  },
  {
   "cell_type": "code",
   "execution_count": 36,
   "metadata": {
    "collapsed": false
   },
   "outputs": [
    {
     "data": {
      "text/plain": [
       "[(u',', 539),\n",
       " (u'.', 353),\n",
       " (u'/', 110),\n",
       " (u'for', 100),\n",
       " (u'lady', 88),\n",
       " (u'to', 79),\n",
       " (u'and', 76),\n",
       " (u'seeks', 72),\n",
       " (u'-', 66),\n",
       " (u'a', 62),\n",
       " (u's', 60),\n",
       " (u'with', 46),\n",
       " (u'male', 42),\n",
       " (u'looking', 34),\n",
       " (u'slim', 33),\n",
       " (u'ship', 33),\n",
       " (u'fun', 31),\n",
       " (u'&', 30),\n",
       " (u'relationship', 29),\n",
       " (u'attractive', 29),\n",
       " (u'o', 29),\n",
       " (u'build', 27),\n",
       " (u'in', 27),\n",
       " (u'good', 26),\n",
       " (u'y', 26),\n",
       " (u'non', 25),\n",
       " (u'seeking', 25),\n",
       " (u'n', 23),\n",
       " (u'smoker', 23),\n",
       " (u'50', 23),\n",
       " (u'guy', 22),\n",
       " (u'movies', 22),\n",
       " (u'honest', 22),\n",
       " (u'i', 22),\n",
       " (u'married', 21),\n",
       " (u'age', 21),\n",
       " (u'friendship', 20),\n",
       " (u'like', 20),\n",
       " (u'fit', 19),\n",
       " (u'out', 19),\n",
       " (u'dining', 19),\n",
       " (u'rship', 19),\n",
       " (u'single', 19),\n",
       " (u'r', 18),\n",
       " (u'f', 17),\n",
       " (u'who', 17),\n",
       " (u'caring', 17),\n",
       " (u'enjoy', 16),\n",
       " (u'35', 16),\n",
       " (u'tall', 16)]"
      ]
     },
     "execution_count": 36,
     "metadata": {},
     "output_type": "execute_result"
    }
   ],
   "source": [
    "fdist1 = FreqDist(personals)\n",
    "fdist1.most_common(50)"
   ]
  },
  {
   "cell_type": "markdown",
   "metadata": {},
   "source": []
  }
 ],
 "metadata": {
  "kernelspec": {
   "display_name": "Python 2",
   "language": "python",
   "name": "python2"
  },
  "language_info": {
   "codemirror_mode": {
    "name": "ipython",
    "version": 2
   },
   "file_extension": ".py",
   "mimetype": "text/x-python",
   "name": "python",
   "nbconvert_exporter": "python",
   "pygments_lexer": "ipython2",
   "version": "2.7.6"
  }
 },
 "nbformat": 4,
 "nbformat_minor": 0
}
